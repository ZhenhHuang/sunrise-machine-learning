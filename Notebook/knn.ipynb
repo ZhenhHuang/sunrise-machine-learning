{
 "cells": [
  {
   "cell_type": "code",
   "execution_count": 1,
   "metadata": {},
   "outputs": [],
   "source": [
    "from neighbours.knn import KNeighborsClassifier\n",
    "import numpy as np\n",
    "import matplotlib.pyplot as plt\n",
    "import pandas as pd\n",
    "from sklearn.preprocessing import StandardScaler"
   ]
  },
  {
   "cell_type": "code",
   "execution_count": 2,
   "metadata": {},
   "outputs": [],
   "source": [
    "def load_data(path):\n",
    "        f = open(path)\n",
    "        label = []\n",
    "        data = []\n",
    "        for line in f.readlines():\n",
    "            line = line.strip().split('\\t')\n",
    "            label.append(int(line[-1])-1)\n",
    "            data.append(list(map(float, line[:-1])))\n",
    "        f.close()\n",
    "        return np.array(data), np.array(label)\n",
    "\n",
    "\n",
    "def split_data(data, label):\n",
    "    train_size = int(data.shape[0] * 0.7)\n",
    "    \n",
    "    train_data = data[: train_size]\n",
    "    train_label = label[: train_size]\n",
    "    norm = StandardScaler()\n",
    "    norm.fit(train_data)\n",
    "    train_data = norm.transform(train_data)\n",
    "\n",
    "    test_data = data[train_size:]\n",
    "    test_label = label[train_size:]\n",
    "    test_data = norm.transform(test_data)\n",
    "    \n",
    "    return train_data, train_label, test_data, test_label"
   ]
  },
  {
   "cell_type": "markdown",
   "metadata": {},
   "source": [
    "### Test knn"
   ]
  },
  {
   "cell_type": "code",
   "execution_count": 3,
   "metadata": {},
   "outputs": [
    {
     "data": {
      "image/png": "[encoded data removed]",
      "text/plain": [
       "<Figure size 432x288 with 1 Axes>"
      ]
     },
     "metadata": {
      "needs_background": "light"
     },
     "output_type": "display_data"
    },
    {
     "name": "stdout",
     "output_type": "stream",
     "text": [
      "best Ks are [ 1 25]\n"
     ]
    }
   ],
   "source": [
    "data, label = load_data('./data/knn/datingTestSet2.txt')\n",
    "train_data, train_label, test_data, test_label = split_data(data, label)\n",
    "acc_list = []\n",
    "for k in range(1, 31):\n",
    "    knn = KNeighborsClassifier(n_neighbors=k)\n",
    "    knn.fit(train_data, train_label)\n",
    "    y_pred = knn.predict(test_data)\n",
    "    acc = (y_pred == test_label).sum() / test_label.shape[0]\n",
    "    acc_list.append(acc)\n",
    "plt.plot(list(range(1,31)), acc_list)\n",
    "plt.show()\n",
    "best = np.max(acc_list)\n",
    "best = np.where(acc_list == best)[0] + 1\n",
    "print(f'best Ks are {best}')"
   ]
  },
  {
   "cell_type": "markdown",
   "metadata": {},
   "source": [
    "### Compare the compute cost"
   ]
  },
  {
   "cell_type": "code",
   "execution_count": 25,
   "metadata": {},
   "outputs": [
    {
     "name": "stdout",
     "output_type": "stream",
     "text": [
      "0.006999969482421875\n",
      "0.9533333333333334\n",
      "0.007002115249633789\n",
      "0.9533333333333334\n"
     ]
    }
   ],
   "source": [
    "import time\n",
    "knn = KNeighborsClassifier(algorithm='kd_tree')\n",
    "knn.fit(train_data, train_label)\n",
    "time_now = time.time()\n",
    "results = knn.predict(test_data)\n",
    "cost_kd = time.time() - time_now\n",
    "print(cost_kd)\n",
    "acc = (results == test_label).sum() / test_label.shape[0]\n",
    "print(acc)\n",
    "\n",
    "\n",
    "knn = KNeighborsClassifier(n_neighbors=5)\n",
    "knn.fit(train_data, train_label)\n",
    "time_now = time.time()\n",
    "results = knn.predict(test_data)\n",
    "cost_naive = time.time() - time_now\n",
    "print(cost_naive)\n",
    "acc = (results == test_label).sum() / test_label.shape[0]\n",
    "print(acc)"
   ]
  }
 ],
 "metadata": {
  "kernelspec": {
   "display_name": "Python 3.9.7 ('torch10')",
   "language": "python",
   "name": "python3"
  },
  "language_info": {
   "codemirror_mode": {
    "name": "ipython",
    "version": 3
   },
   "file_extension": ".py",
   "mimetype": "text/x-python",
   "name": "python",
   "nbconvert_exporter": "python",
   "pygments_lexer": "ipython3",
   "version": "3.9.7"
  },
  "orig_nbformat": 4,
  "vscode": {
   "interpreter": {
    "hash": "8f5c1b24a4ab56abd916d54534896e4f6d0a89a0daba3b8db7ea16393a780e2e"
   }
  }
 },
 "nbformat": 4,
 "nbformat_minor": 2
}
